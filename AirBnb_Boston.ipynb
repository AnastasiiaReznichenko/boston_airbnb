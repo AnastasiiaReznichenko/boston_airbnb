{
 "cells": [
  {
   "cell_type": "markdown",
   "id": "6dea8290",
   "metadata": {},
   "source": [
    "# Section 1: Business understanding"
   ]
  },
  {
   "cell_type": "markdown",
   "id": "a197cf99",
   "metadata": {},
   "source": [
    "We want to find out how you can save on trip to Boston? Maybee to go off season, or to live farther from Boston city center.\n",
    "\n",
    "Key questions we wanted to answer:\n",
    "1. When is high season to travel to Boston?\n",
    "2. Is there is a significant price change for accommodation?\n",
    "3. All the cities raise prices in high season, if yes than by what percent?\n",
    "4. Is there any connections between price, distance from the city center and satisfaction with the stay?"
   ]
  },
  {
   "cell_type": "code",
   "execution_count": 109,
   "id": "57383028",
   "metadata": {},
   "outputs": [],
   "source": [
    "import pandas as pd\n",
    "import numpy as np\n",
    "from datetime import datetime\n",
    "import matplotlib.pyplot as plt\n",
    "import seaborn as sns\n",
    "import matplotlib.pyplot as plt\n",
    "\n",
    "from math import radians, sin, cos, sqrt"
   ]
  },
  {
   "cell_type": "markdown",
   "id": "fbcbdec5",
   "metadata": {},
   "source": [
    "# Section 2: Data Understanding\n"
   ]
  },
  {
   "cell_type": "markdown",
   "id": "9ddf5937",
   "metadata": {},
   "source": [
    "## Gather \n"
   ]
  },
  {
   "cell_type": "code",
   "execution_count": 94,
   "id": "2322e110",
   "metadata": {},
   "outputs": [],
   "source": [
    "#reading all the dataframes from the directory\n",
    "df = pd.read_csv('/Users/reznichenkoanastasia/Downloads/archive (1)/listings.csv')\n",
    "df_cal = pd.read_csv('/Users/reznichenkoanastasia/Downloads/archive (1)/calendar.csv')\n",
    "df_rev = pd.read_csv('/Users/reznichenkoanastasia/Downloads/archive (1)/reviews.csv')\n"
   ]
  },
  {
   "cell_type": "markdown",
   "id": "a3b360ab",
   "metadata": {},
   "source": [
    "## Assess data"
   ]
  },
  {
   "cell_type": "code",
   "execution_count": 95,
   "id": "a3bd87e2",
   "metadata": {},
   "outputs": [
    {
     "data": {
      "text/html": [
       "<div>\n",
       "<style scoped>\n",
       "    .dataframe tbody tr th:only-of-type {\n",
       "        vertical-align: middle;\n",
       "    }\n",
       "\n",
       "    .dataframe tbody tr th {\n",
       "        vertical-align: top;\n",
       "    }\n",
       "\n",
       "    .dataframe thead th {\n",
       "        text-align: right;\n",
       "    }\n",
       "</style>\n",
       "<table border=\"1\" class=\"dataframe\">\n",
       "  <thead>\n",
       "    <tr style=\"text-align: right;\">\n",
       "      <th></th>\n",
       "      <th>listing_id</th>\n",
       "      <th>id</th>\n",
       "      <th>date</th>\n",
       "      <th>reviewer_id</th>\n",
       "      <th>reviewer_name</th>\n",
       "      <th>comments</th>\n",
       "    </tr>\n",
       "  </thead>\n",
       "  <tbody>\n",
       "    <tr>\n",
       "      <th>0</th>\n",
       "      <td>1178162</td>\n",
       "      <td>4724140</td>\n",
       "      <td>2013-05-21</td>\n",
       "      <td>4298113</td>\n",
       "      <td>Olivier</td>\n",
       "      <td>My stay at islam's place was really cool! Good...</td>\n",
       "    </tr>\n",
       "    <tr>\n",
       "      <th>1</th>\n",
       "      <td>1178162</td>\n",
       "      <td>4869189</td>\n",
       "      <td>2013-05-29</td>\n",
       "      <td>6452964</td>\n",
       "      <td>Charlotte</td>\n",
       "      <td>Great location for both airport and city - gre...</td>\n",
       "    </tr>\n",
       "    <tr>\n",
       "      <th>2</th>\n",
       "      <td>1178162</td>\n",
       "      <td>5003196</td>\n",
       "      <td>2013-06-06</td>\n",
       "      <td>6449554</td>\n",
       "      <td>Sebastian</td>\n",
       "      <td>We really enjoyed our stay at Islams house. Fr...</td>\n",
       "    </tr>\n",
       "    <tr>\n",
       "      <th>3</th>\n",
       "      <td>1178162</td>\n",
       "      <td>5150351</td>\n",
       "      <td>2013-06-15</td>\n",
       "      <td>2215611</td>\n",
       "      <td>Marine</td>\n",
       "      <td>The room was nice and clean and so were the co...</td>\n",
       "    </tr>\n",
       "    <tr>\n",
       "      <th>4</th>\n",
       "      <td>1178162</td>\n",
       "      <td>5171140</td>\n",
       "      <td>2013-06-16</td>\n",
       "      <td>6848427</td>\n",
       "      <td>Andrew</td>\n",
       "      <td>Great location. Just 5 mins walk from the Airp...</td>\n",
       "    </tr>\n",
       "    <tr>\n",
       "      <th>...</th>\n",
       "      <td>...</td>\n",
       "      <td>...</td>\n",
       "      <td>...</td>\n",
       "      <td>...</td>\n",
       "      <td>...</td>\n",
       "      <td>...</td>\n",
       "    </tr>\n",
       "    <tr>\n",
       "      <th>68270</th>\n",
       "      <td>7462268</td>\n",
       "      <td>80537457</td>\n",
       "      <td>2016-06-18</td>\n",
       "      <td>22034145</td>\n",
       "      <td>Antonio</td>\n",
       "      <td>Joe y su mujer son encantadores. La habitación...</td>\n",
       "    </tr>\n",
       "    <tr>\n",
       "      <th>68271</th>\n",
       "      <td>7462268</td>\n",
       "      <td>83640094</td>\n",
       "      <td>2016-07-03</td>\n",
       "      <td>40052513</td>\n",
       "      <td>Steve</td>\n",
       "      <td>Joe was on his way to Jamaica to be married! o...</td>\n",
       "    </tr>\n",
       "    <tr>\n",
       "      <th>68272</th>\n",
       "      <td>7462268</td>\n",
       "      <td>85797088</td>\n",
       "      <td>2016-07-13</td>\n",
       "      <td>77129134</td>\n",
       "      <td>Nick</td>\n",
       "      <td>The room was very clean as were the bathrooms ...</td>\n",
       "    </tr>\n",
       "    <tr>\n",
       "      <th>68273</th>\n",
       "      <td>7462268</td>\n",
       "      <td>97264637</td>\n",
       "      <td>2016-08-26</td>\n",
       "      <td>15799803</td>\n",
       "      <td>Vid</td>\n",
       "      <td>Staying in Lower Allston at Joe and Nancy's pl...</td>\n",
       "    </tr>\n",
       "    <tr>\n",
       "      <th>68274</th>\n",
       "      <td>7462268</td>\n",
       "      <td>98550693</td>\n",
       "      <td>2016-08-31</td>\n",
       "      <td>90128094</td>\n",
       "      <td>Arianna</td>\n",
       "      <td>The room itself and the aprtment were very cle...</td>\n",
       "    </tr>\n",
       "  </tbody>\n",
       "</table>\n",
       "<p>68275 rows × 6 columns</p>\n",
       "</div>"
      ],
      "text/plain": [
       "       listing_id        id        date  reviewer_id reviewer_name  \\\n",
       "0         1178162   4724140  2013-05-21      4298113       Olivier   \n",
       "1         1178162   4869189  2013-05-29      6452964     Charlotte   \n",
       "2         1178162   5003196  2013-06-06      6449554     Sebastian   \n",
       "3         1178162   5150351  2013-06-15      2215611        Marine   \n",
       "4         1178162   5171140  2013-06-16      6848427        Andrew   \n",
       "...           ...       ...         ...          ...           ...   \n",
       "68270     7462268  80537457  2016-06-18     22034145       Antonio   \n",
       "68271     7462268  83640094  2016-07-03     40052513         Steve   \n",
       "68272     7462268  85797088  2016-07-13     77129134          Nick   \n",
       "68273     7462268  97264637  2016-08-26     15799803           Vid   \n",
       "68274     7462268  98550693  2016-08-31     90128094       Arianna   \n",
       "\n",
       "                                                comments  \n",
       "0      My stay at islam's place was really cool! Good...  \n",
       "1      Great location for both airport and city - gre...  \n",
       "2      We really enjoyed our stay at Islams house. Fr...  \n",
       "3      The room was nice and clean and so were the co...  \n",
       "4      Great location. Just 5 mins walk from the Airp...  \n",
       "...                                                  ...  \n",
       "68270  Joe y su mujer son encantadores. La habitación...  \n",
       "68271  Joe was on his way to Jamaica to be married! o...  \n",
       "68272  The room was very clean as were the bathrooms ...  \n",
       "68273  Staying in Lower Allston at Joe and Nancy's pl...  \n",
       "68274  The room itself and the aprtment were very cle...  \n",
       "\n",
       "[68275 rows x 6 columns]"
      ]
     },
     "execution_count": 95,
     "metadata": {},
     "output_type": "execute_result"
    }
   ],
   "source": [
    "df_rev"
   ]
  },
  {
   "cell_type": "markdown",
   "id": "f3021150",
   "metadata": {},
   "source": [
    "## Clean"
   ]
  },
  {
   "cell_type": "markdown",
   "id": "bf2525ca",
   "metadata": {},
   "source": [
    "We are going to work with columns price, listing_id, date from dataframe df_cal, and with price, latitude, longitude, review_scores_value from dataframe df. Before we start lets clean the data from nan values and we want to remove outliars and unrealistic values\n",
    "-For Date column I decided to remove nan, because you we have enough data to analyze and just to fill with mean values will be not accurate.\n",
    "-For Price column in both dataframes I decided to remove all nan prices because we still have enough data to work with, and predict the price based on the information we have is impossible.\n",
    "-Price column have some unrealistic price changes. Like the price from $75 raised to $750. And it was only for one day, so it looks like a typo. I used quantile thresholding method to remove outliars and unrealistic price changes\n",
    "-Price column is an object,and it has \"$\" and \",\" in it.So first we would replace that and convert it to numerical\n"
   ]
  },
  {
   "cell_type": "code",
   "execution_count": 96,
   "id": "1f7f33ea",
   "metadata": {},
   "outputs": [
    {
     "name": "stderr",
     "output_type": "stream",
     "text": [
      "/var/folders/l3/35p0rvxn07nbl5w1stvlssmm0000gn/T/ipykernel_24268/1835150959.py:19: FutureWarning: The default value of regex will change from True to False in a future version. In addition, single character regular expressions will *not* be treated as literal strings when regex=True.\n",
      "  df1['normal_price'] = df1['price'].str.replace('$', '').str.replace(',', '')\n",
      "/var/folders/l3/35p0rvxn07nbl5w1stvlssmm0000gn/T/ipykernel_24268/1835150959.py:19: FutureWarning: The default value of regex will change from True to False in a future version. In addition, single character regular expressions will *not* be treated as literal strings when regex=True.\n",
      "  df1['normal_price'] = df1['price'].str.replace('$', '').str.replace(',', '')\n"
     ]
    }
   ],
   "source": [
    "# We removing na values ,converting column from object to numerical so we would be able to work with them in future\n",
    "\n",
    "\n",
    "def convert_to_num(data):\n",
    "    '''\n",
    "    \n",
    "    Convert the 'price' column in a DataFrame to numeric format.\n",
    "\n",
    "    Parameters:\n",
    "        data (pandas.DataFrame): Input DataFrame.\n",
    "\n",
    "    Returns:\n",
    "        pandas.DataFrame: DataFrame with a new column 'normal_price' containing the converted numeric prices.\n",
    "    '''\n",
    "    \n",
    "    df1 = data.copy()\n",
    "    df1.dropna(subset=['price'])\n",
    "    df1['normal_price'] = df1['price'].str.replace('$', '').str.replace(',', '')\n",
    "    df1['normal_price'] = pd.to_numeric( df1['normal_price'])\n",
    "    return  df1\n",
    "\n",
    "df = convert_to_num(df)\n",
    "df_cal = convert_to_num(df_cal)\n",
    "\n",
    "# removing non date\n",
    "df_cal.dropna(subset=['date'], inplace=True)\n",
    "\n",
    "\n",
    "\n",
    "# creating the table that is a copy of df_cal, using quantile thresholding method to remove outliars and unrealistic price \n",
    "\n",
    "temp = df_cal.copy()\n",
    "qdf = temp.groupby('listing_id')['normal_price'].quantile([0.05,0.95])\n",
    "temp.set_index('listing_id', inplace=True)\n",
    "temp['q_0.05'] = qdf.loc[(slice(None), 0.05)]\n",
    "temp['q_95'] = qdf.loc[(slice(None), 0.95)]\n",
    "temp = temp[temp['normal_price']>temp['q_0.05']]\n",
    "temp = temp[temp['normal_price']<temp['q_95']]"
   ]
  },
  {
   "cell_type": "markdown",
   "id": "cb2061f2",
   "metadata": {},
   "source": [
    "### Data preparation and feature engineering"
   ]
  },
  {
   "cell_type": "code",
   "execution_count": 97,
   "id": "75d95c08",
   "metadata": {},
   "outputs": [],
   "source": [
    "# Extract month from date using library from datetime import datetime\n",
    "\n",
    "df_cal['month']=df_cal['date']\n",
    "df_cal['month']=pd.to_datetime(df_cal['month'],infer_datetime_format=True)\n",
    "df_cal['month']=df_cal['month'].dt.month"
   ]
  },
  {
   "cell_type": "markdown",
   "id": "c5ed6d5c",
   "metadata": {},
   "source": [
    "Creating new column Distance that calculates the distance from the accommodation to Faneuil Hall Visitor Center (Boston city center). We would need it later, to see is there any connection between distance to the city center and satisfaction from your stay\n",
    "\n"
   ]
  },
  {
   "cell_type": "code",
   "execution_count": 98,
   "id": "4a802f82",
   "metadata": {},
   "outputs": [
    {
     "data": {
      "text/html": [
       "<div>\n",
       "<style scoped>\n",
       "    .dataframe tbody tr th:only-of-type {\n",
       "        vertical-align: middle;\n",
       "    }\n",
       "\n",
       "    .dataframe tbody tr th {\n",
       "        vertical-align: top;\n",
       "    }\n",
       "\n",
       "    .dataframe thead th {\n",
       "        text-align: right;\n",
       "    }\n",
       "</style>\n",
       "<table border=\"1\" class=\"dataframe\">\n",
       "  <thead>\n",
       "    <tr style=\"text-align: right;\">\n",
       "      <th></th>\n",
       "      <th>id</th>\n",
       "      <th>listing_url</th>\n",
       "      <th>scrape_id</th>\n",
       "      <th>last_scraped</th>\n",
       "      <th>name</th>\n",
       "      <th>summary</th>\n",
       "      <th>space</th>\n",
       "      <th>description</th>\n",
       "      <th>experiences_offered</th>\n",
       "      <th>neighborhood_overview</th>\n",
       "      <th>...</th>\n",
       "      <th>license</th>\n",
       "      <th>jurisdiction_names</th>\n",
       "      <th>instant_bookable</th>\n",
       "      <th>cancellation_policy</th>\n",
       "      <th>require_guest_profile_picture</th>\n",
       "      <th>require_guest_phone_verification</th>\n",
       "      <th>calculated_host_listings_count</th>\n",
       "      <th>reviews_per_month</th>\n",
       "      <th>normal_price</th>\n",
       "      <th>distance_to_cent</th>\n",
       "    </tr>\n",
       "  </thead>\n",
       "  <tbody>\n",
       "    <tr>\n",
       "      <th>0</th>\n",
       "      <td>12147973</td>\n",
       "      <td>https://www.airbnb.com/rooms/12147973</td>\n",
       "      <td>20160906204935</td>\n",
       "      <td>2016-09-07</td>\n",
       "      <td>Sunny Bungalow in the City</td>\n",
       "      <td>Cozy, sunny, family home.  Master bedroom high...</td>\n",
       "      <td>The house has an open and cozy feel at the sam...</td>\n",
       "      <td>Cozy, sunny, family home.  Master bedroom high...</td>\n",
       "      <td>none</td>\n",
       "      <td>Roslindale is quiet, convenient and friendly. ...</td>\n",
       "      <td>...</td>\n",
       "      <td>NaN</td>\n",
       "      <td>NaN</td>\n",
       "      <td>f</td>\n",
       "      <td>moderate</td>\n",
       "      <td>f</td>\n",
       "      <td>f</td>\n",
       "      <td>1</td>\n",
       "      <td>NaN</td>\n",
       "      <td>250.0</td>\n",
       "      <td>6.679962</td>\n",
       "    </tr>\n",
       "    <tr>\n",
       "      <th>1</th>\n",
       "      <td>3075044</td>\n",
       "      <td>https://www.airbnb.com/rooms/3075044</td>\n",
       "      <td>20160906204935</td>\n",
       "      <td>2016-09-07</td>\n",
       "      <td>Charming room in pet friendly apt</td>\n",
       "      <td>Charming and quiet room in a second floor 1910...</td>\n",
       "      <td>Small but cozy and quite room with a full size...</td>\n",
       "      <td>Charming and quiet room in a second floor 1910...</td>\n",
       "      <td>none</td>\n",
       "      <td>The room is in Roslindale, a diverse and prima...</td>\n",
       "      <td>...</td>\n",
       "      <td>NaN</td>\n",
       "      <td>NaN</td>\n",
       "      <td>t</td>\n",
       "      <td>moderate</td>\n",
       "      <td>f</td>\n",
       "      <td>f</td>\n",
       "      <td>1</td>\n",
       "      <td>1.30</td>\n",
       "      <td>65.0</td>\n",
       "      <td>6.522621</td>\n",
       "    </tr>\n",
       "    <tr>\n",
       "      <th>2</th>\n",
       "      <td>6976</td>\n",
       "      <td>https://www.airbnb.com/rooms/6976</td>\n",
       "      <td>20160906204935</td>\n",
       "      <td>2016-09-07</td>\n",
       "      <td>Mexican Folk Art Haven in Boston</td>\n",
       "      <td>Come stay with a friendly, middle-aged guy in ...</td>\n",
       "      <td>Come stay with a friendly, middle-aged guy in ...</td>\n",
       "      <td>Come stay with a friendly, middle-aged guy in ...</td>\n",
       "      <td>none</td>\n",
       "      <td>The LOCATION: Roslindale is a safe and diverse...</td>\n",
       "      <td>...</td>\n",
       "      <td>NaN</td>\n",
       "      <td>NaN</td>\n",
       "      <td>f</td>\n",
       "      <td>moderate</td>\n",
       "      <td>t</td>\n",
       "      <td>f</td>\n",
       "      <td>1</td>\n",
       "      <td>0.47</td>\n",
       "      <td>65.0</td>\n",
       "      <td>6.240433</td>\n",
       "    </tr>\n",
       "    <tr>\n",
       "      <th>3</th>\n",
       "      <td>1436513</td>\n",
       "      <td>https://www.airbnb.com/rooms/1436513</td>\n",
       "      <td>20160906204935</td>\n",
       "      <td>2016-09-07</td>\n",
       "      <td>Spacious Sunny Bedroom Suite in Historic Home</td>\n",
       "      <td>Come experience the comforts of home away from...</td>\n",
       "      <td>Most places you find in Boston are small howev...</td>\n",
       "      <td>Come experience the comforts of home away from...</td>\n",
       "      <td>none</td>\n",
       "      <td>Roslindale is a lovely little neighborhood loc...</td>\n",
       "      <td>...</td>\n",
       "      <td>NaN</td>\n",
       "      <td>NaN</td>\n",
       "      <td>f</td>\n",
       "      <td>moderate</td>\n",
       "      <td>f</td>\n",
       "      <td>f</td>\n",
       "      <td>1</td>\n",
       "      <td>1.00</td>\n",
       "      <td>75.0</td>\n",
       "      <td>6.419094</td>\n",
       "    </tr>\n",
       "    <tr>\n",
       "      <th>4</th>\n",
       "      <td>7651065</td>\n",
       "      <td>https://www.airbnb.com/rooms/7651065</td>\n",
       "      <td>20160906204935</td>\n",
       "      <td>2016-09-07</td>\n",
       "      <td>Come Home to Boston</td>\n",
       "      <td>My comfy, clean and relaxing home is one block...</td>\n",
       "      <td>Clean, attractive, private room, one block fro...</td>\n",
       "      <td>My comfy, clean and relaxing home is one block...</td>\n",
       "      <td>none</td>\n",
       "      <td>I love the proximity to downtown, the neighbor...</td>\n",
       "      <td>...</td>\n",
       "      <td>NaN</td>\n",
       "      <td>NaN</td>\n",
       "      <td>f</td>\n",
       "      <td>flexible</td>\n",
       "      <td>f</td>\n",
       "      <td>f</td>\n",
       "      <td>1</td>\n",
       "      <td>2.25</td>\n",
       "      <td>79.0</td>\n",
       "      <td>6.676054</td>\n",
       "    </tr>\n",
       "    <tr>\n",
       "      <th>...</th>\n",
       "      <td>...</td>\n",
       "      <td>...</td>\n",
       "      <td>...</td>\n",
       "      <td>...</td>\n",
       "      <td>...</td>\n",
       "      <td>...</td>\n",
       "      <td>...</td>\n",
       "      <td>...</td>\n",
       "      <td>...</td>\n",
       "      <td>...</td>\n",
       "      <td>...</td>\n",
       "      <td>...</td>\n",
       "      <td>...</td>\n",
       "      <td>...</td>\n",
       "      <td>...</td>\n",
       "      <td>...</td>\n",
       "      <td>...</td>\n",
       "      <td>...</td>\n",
       "      <td>...</td>\n",
       "      <td>...</td>\n",
       "      <td>...</td>\n",
       "    </tr>\n",
       "    <tr>\n",
       "      <th>3580</th>\n",
       "      <td>8373729</td>\n",
       "      <td>https://www.airbnb.com/rooms/8373729</td>\n",
       "      <td>20160906204935</td>\n",
       "      <td>2016-09-07</td>\n",
       "      <td>Big cozy room near T</td>\n",
       "      <td>5 min walking to Orange Line subway with 2 sto...</td>\n",
       "      <td>NaN</td>\n",
       "      <td>5 min walking to Orange Line subway with 2 sto...</td>\n",
       "      <td>none</td>\n",
       "      <td>NaN</td>\n",
       "      <td>...</td>\n",
       "      <td>NaN</td>\n",
       "      <td>NaN</td>\n",
       "      <td>t</td>\n",
       "      <td>strict</td>\n",
       "      <td>f</td>\n",
       "      <td>f</td>\n",
       "      <td>8</td>\n",
       "      <td>0.34</td>\n",
       "      <td>69.0</td>\n",
       "      <td>2.071593</td>\n",
       "    </tr>\n",
       "    <tr>\n",
       "      <th>3581</th>\n",
       "      <td>14844274</td>\n",
       "      <td>https://www.airbnb.com/rooms/14844274</td>\n",
       "      <td>20160906204935</td>\n",
       "      <td>2016-09-07</td>\n",
       "      <td>BU Apartment DexterPark Bright room</td>\n",
       "      <td>Most popular apartment in BU, best located in ...</td>\n",
       "      <td>Best location in BU</td>\n",
       "      <td>Most popular apartment in BU, best located in ...</td>\n",
       "      <td>none</td>\n",
       "      <td>NaN</td>\n",
       "      <td>...</td>\n",
       "      <td>NaN</td>\n",
       "      <td>NaN</td>\n",
       "      <td>f</td>\n",
       "      <td>strict</td>\n",
       "      <td>f</td>\n",
       "      <td>f</td>\n",
       "      <td>2</td>\n",
       "      <td>NaN</td>\n",
       "      <td>150.0</td>\n",
       "      <td>3.360330</td>\n",
       "    </tr>\n",
       "    <tr>\n",
       "      <th>3582</th>\n",
       "      <td>14585486</td>\n",
       "      <td>https://www.airbnb.com/rooms/14585486</td>\n",
       "      <td>20160906204935</td>\n",
       "      <td>2016-09-07</td>\n",
       "      <td>Gorgeous funky apartment</td>\n",
       "      <td>Funky little apartment close to public transpo...</td>\n",
       "      <td>Modern and relaxed space with many facilities ...</td>\n",
       "      <td>Funky little apartment close to public transpo...</td>\n",
       "      <td>none</td>\n",
       "      <td>Cambridge is a short walk into Boston, and set...</td>\n",
       "      <td>...</td>\n",
       "      <td>NaN</td>\n",
       "      <td>NaN</td>\n",
       "      <td>f</td>\n",
       "      <td>flexible</td>\n",
       "      <td>f</td>\n",
       "      <td>f</td>\n",
       "      <td>1</td>\n",
       "      <td>NaN</td>\n",
       "      <td>198.0</td>\n",
       "      <td>1.171354</td>\n",
       "    </tr>\n",
       "    <tr>\n",
       "      <th>3583</th>\n",
       "      <td>14603878</td>\n",
       "      <td>https://www.airbnb.com/rooms/14603878</td>\n",
       "      <td>20160906204935</td>\n",
       "      <td>2016-09-07</td>\n",
       "      <td>Great Location; Train and Restaurants</td>\n",
       "      <td>My place is close to Taco Loco Mexican Grill, ...</td>\n",
       "      <td>NaN</td>\n",
       "      <td>My place is close to Taco Loco Mexican Grill, ...</td>\n",
       "      <td>none</td>\n",
       "      <td>NaN</td>\n",
       "      <td>...</td>\n",
       "      <td>NaN</td>\n",
       "      <td>NaN</td>\n",
       "      <td>f</td>\n",
       "      <td>strict</td>\n",
       "      <td>f</td>\n",
       "      <td>f</td>\n",
       "      <td>1</td>\n",
       "      <td>2.00</td>\n",
       "      <td>65.0</td>\n",
       "      <td>2.194547</td>\n",
       "    </tr>\n",
       "    <tr>\n",
       "      <th>3584</th>\n",
       "      <td>14504422</td>\n",
       "      <td>https://www.airbnb.com/rooms/14504422</td>\n",
       "      <td>20160906204935</td>\n",
       "      <td>2016-09-07</td>\n",
       "      <td>(K1) Private Room near Harvard/MIT</td>\n",
       "      <td>My place is close to My home is a warm and fri...</td>\n",
       "      <td>To ensure a smooth check in: 1. You MUST have ...</td>\n",
       "      <td>My place is close to My home is a warm and fri...</td>\n",
       "      <td>none</td>\n",
       "      <td>NaN</td>\n",
       "      <td>...</td>\n",
       "      <td>NaN</td>\n",
       "      <td>NaN</td>\n",
       "      <td>t</td>\n",
       "      <td>flexible</td>\n",
       "      <td>f</td>\n",
       "      <td>f</td>\n",
       "      <td>3</td>\n",
       "      <td>NaN</td>\n",
       "      <td>65.0</td>\n",
       "      <td>2.335297</td>\n",
       "    </tr>\n",
       "  </tbody>\n",
       "</table>\n",
       "<p>3585 rows × 97 columns</p>\n",
       "</div>"
      ],
      "text/plain": [
       "            id                            listing_url       scrape_id  \\\n",
       "0     12147973  https://www.airbnb.com/rooms/12147973  20160906204935   \n",
       "1      3075044   https://www.airbnb.com/rooms/3075044  20160906204935   \n",
       "2         6976      https://www.airbnb.com/rooms/6976  20160906204935   \n",
       "3      1436513   https://www.airbnb.com/rooms/1436513  20160906204935   \n",
       "4      7651065   https://www.airbnb.com/rooms/7651065  20160906204935   \n",
       "...        ...                                    ...             ...   \n",
       "3580   8373729   https://www.airbnb.com/rooms/8373729  20160906204935   \n",
       "3581  14844274  https://www.airbnb.com/rooms/14844274  20160906204935   \n",
       "3582  14585486  https://www.airbnb.com/rooms/14585486  20160906204935   \n",
       "3583  14603878  https://www.airbnb.com/rooms/14603878  20160906204935   \n",
       "3584  14504422  https://www.airbnb.com/rooms/14504422  20160906204935   \n",
       "\n",
       "     last_scraped                                           name  \\\n",
       "0      2016-09-07                     Sunny Bungalow in the City   \n",
       "1      2016-09-07              Charming room in pet friendly apt   \n",
       "2      2016-09-07               Mexican Folk Art Haven in Boston   \n",
       "3      2016-09-07  Spacious Sunny Bedroom Suite in Historic Home   \n",
       "4      2016-09-07                            Come Home to Boston   \n",
       "...           ...                                            ...   \n",
       "3580   2016-09-07                           Big cozy room near T   \n",
       "3581   2016-09-07            BU Apartment DexterPark Bright room   \n",
       "3582   2016-09-07                       Gorgeous funky apartment   \n",
       "3583   2016-09-07          Great Location; Train and Restaurants   \n",
       "3584   2016-09-07             (K1) Private Room near Harvard/MIT   \n",
       "\n",
       "                                                summary  \\\n",
       "0     Cozy, sunny, family home.  Master bedroom high...   \n",
       "1     Charming and quiet room in a second floor 1910...   \n",
       "2     Come stay with a friendly, middle-aged guy in ...   \n",
       "3     Come experience the comforts of home away from...   \n",
       "4     My comfy, clean and relaxing home is one block...   \n",
       "...                                                 ...   \n",
       "3580  5 min walking to Orange Line subway with 2 sto...   \n",
       "3581  Most popular apartment in BU, best located in ...   \n",
       "3582  Funky little apartment close to public transpo...   \n",
       "3583  My place is close to Taco Loco Mexican Grill, ...   \n",
       "3584  My place is close to My home is a warm and fri...   \n",
       "\n",
       "                                                  space  \\\n",
       "0     The house has an open and cozy feel at the sam...   \n",
       "1     Small but cozy and quite room with a full size...   \n",
       "2     Come stay with a friendly, middle-aged guy in ...   \n",
       "3     Most places you find in Boston are small howev...   \n",
       "4     Clean, attractive, private room, one block fro...   \n",
       "...                                                 ...   \n",
       "3580                                                NaN   \n",
       "3581                                Best location in BU   \n",
       "3582  Modern and relaxed space with many facilities ...   \n",
       "3583                                                NaN   \n",
       "3584  To ensure a smooth check in: 1. You MUST have ...   \n",
       "\n",
       "                                            description experiences_offered  \\\n",
       "0     Cozy, sunny, family home.  Master bedroom high...                none   \n",
       "1     Charming and quiet room in a second floor 1910...                none   \n",
       "2     Come stay with a friendly, middle-aged guy in ...                none   \n",
       "3     Come experience the comforts of home away from...                none   \n",
       "4     My comfy, clean and relaxing home is one block...                none   \n",
       "...                                                 ...                 ...   \n",
       "3580  5 min walking to Orange Line subway with 2 sto...                none   \n",
       "3581  Most popular apartment in BU, best located in ...                none   \n",
       "3582  Funky little apartment close to public transpo...                none   \n",
       "3583  My place is close to Taco Loco Mexican Grill, ...                none   \n",
       "3584  My place is close to My home is a warm and fri...                none   \n",
       "\n",
       "                                  neighborhood_overview  ... license  \\\n",
       "0     Roslindale is quiet, convenient and friendly. ...  ...     NaN   \n",
       "1     The room is in Roslindale, a diverse and prima...  ...     NaN   \n",
       "2     The LOCATION: Roslindale is a safe and diverse...  ...     NaN   \n",
       "3     Roslindale is a lovely little neighborhood loc...  ...     NaN   \n",
       "4     I love the proximity to downtown, the neighbor...  ...     NaN   \n",
       "...                                                 ...  ...     ...   \n",
       "3580                                                NaN  ...     NaN   \n",
       "3581                                                NaN  ...     NaN   \n",
       "3582  Cambridge is a short walk into Boston, and set...  ...     NaN   \n",
       "3583                                                NaN  ...     NaN   \n",
       "3584                                                NaN  ...     NaN   \n",
       "\n",
       "     jurisdiction_names instant_bookable cancellation_policy  \\\n",
       "0                   NaN                f            moderate   \n",
       "1                   NaN                t            moderate   \n",
       "2                   NaN                f            moderate   \n",
       "3                   NaN                f            moderate   \n",
       "4                   NaN                f            flexible   \n",
       "...                 ...              ...                 ...   \n",
       "3580                NaN                t              strict   \n",
       "3581                NaN                f              strict   \n",
       "3582                NaN                f            flexible   \n",
       "3583                NaN                f              strict   \n",
       "3584                NaN                t            flexible   \n",
       "\n",
       "     require_guest_profile_picture require_guest_phone_verification  \\\n",
       "0                                f                                f   \n",
       "1                                f                                f   \n",
       "2                                t                                f   \n",
       "3                                f                                f   \n",
       "4                                f                                f   \n",
       "...                            ...                              ...   \n",
       "3580                             f                                f   \n",
       "3581                             f                                f   \n",
       "3582                             f                                f   \n",
       "3583                             f                                f   \n",
       "3584                             f                                f   \n",
       "\n",
       "     calculated_host_listings_count reviews_per_month normal_price  \\\n",
       "0                                 1               NaN        250.0   \n",
       "1                                 1              1.30         65.0   \n",
       "2                                 1              0.47         65.0   \n",
       "3                                 1              1.00         75.0   \n",
       "4                                 1              2.25         79.0   \n",
       "...                             ...               ...          ...   \n",
       "3580                              8              0.34         69.0   \n",
       "3581                              2               NaN        150.0   \n",
       "3582                              1               NaN        198.0   \n",
       "3583                              1              2.00         65.0   \n",
       "3584                              3               NaN         65.0   \n",
       "\n",
       "      distance_to_cent  \n",
       "0             6.679962  \n",
       "1             6.522621  \n",
       "2             6.240433  \n",
       "3             6.419094  \n",
       "4             6.676054  \n",
       "...                ...  \n",
       "3580          2.071593  \n",
       "3581          3.360330  \n",
       "3582          1.171354  \n",
       "3583          2.194547  \n",
       "3584          2.335297  \n",
       "\n",
       "[3585 rows x 97 columns]"
      ]
     },
     "execution_count": 98,
     "metadata": {},
     "output_type": "execute_result"
    }
   ],
   "source": [
    "def calc_distance(df):\n",
    "    \n",
    "    '''\n",
    "    \n",
    "    Creates new column \"distance\" in DataFrame df using longitute and latitute columns.\n",
    "\n",
    "    Parameters:\n",
    "        df (pandas.DataFrame): Input DataFrame.\n",
    "\n",
    "    Returns:\n",
    "        pandas.DataFrame: DataFrame with a new column ''distance_to_cent' containing the converted numeric distance.\n",
    "    '''\n",
    "    \n",
    "    lat1 = radians(42.360031)\n",
    "    lon1 = radians(-71.054749)\n",
    "\n",
    "    lon2 = df['longitude'].apply(radians)\n",
    "    lat2= df['latitude'].apply(radians)\n",
    "\n",
    "    diff_lat = lat2 - lat1\n",
    "    diff_lon = lon2 - lon1\n",
    "\n",
    "    #the haversine formula\n",
    "    df['distance_to_cent'] = 2*3959*np.arcsin(np.sqrt(np.sin(diff_lat/2)**2+\\\n",
    "                                                      np.cos(lat1)*np.cos(lat2)*np.sin(diff_lon/2)**2))\n",
    "    return df\n",
    "\n",
    "calc_distance(df)"
   ]
  },
  {
   "cell_type": "markdown",
   "id": "b8ba792f",
   "metadata": {},
   "source": [
    "# Section 3:  Evaluate the results\n"
   ]
  },
  {
   "cell_type": "markdown",
   "id": "c98a4ab8",
   "metadata": {},
   "source": [
    "### 1. When is high season to travel to Boston?\n",
    "When you travel to a city you might have preferences like how to avoid crowds or how to save some money on a hotel. Of course, during high season we would have tourists flooding the streets and prices of accommodation go up as well. To answer the question of what season is high we need to check price changes during the year. During the high season, prices are always higher while the low season gives us a better price."
   ]
  },
  {
   "cell_type": "markdown",
   "id": "1305e5b4",
   "metadata": {},
   "source": [
    "We would use our dataframe df_cal and will use boxplot to see price distribution by month."
   ]
  },
  {
   "cell_type": "code",
   "execution_count": 99,
   "id": "0f3e2404",
   "metadata": {},
   "outputs": [],
   "source": [
    "#inline will show us boxplot in notebook\n",
    "%matplotlib inline"
   ]
  },
  {
   "cell_type": "code",
   "execution_count": 100,
   "id": "14f63bde",
   "metadata": {},
   "outputs": [
    {
     "data": {
      "text/plain": [
       "<AxesSubplot:xlabel='month', ylabel='normal_price'>"
      ]
     },
     "execution_count": 100,
     "metadata": {},
     "output_type": "execute_result"
    },
    {
     "data": {
      "image/png": "[encoded data removed]",
      "text/plain": [
       "<Figure size 432x288 with 1 Axes>"
      ]
     },
     "metadata": {
      "needs_background": "light"
     },
     "output_type": "display_data"
    }
   ],
   "source": [
    "#using boxplot to visualize distribution between prices\n",
    "sns.boxplot(x='month',y='normal_price',data=df_cal,showfliers=False)"
   ]
  },
  {
   "cell_type": "markdown",
   "id": "c17db52d",
   "metadata": {},
   "source": [
    "#### We can definitely conclude that most expensive months are September and October.It is the highest season.But it's difficult to say what is low season "
   ]
  },
  {
   "cell_type": "markdown",
   "id": "f6c5c302",
   "metadata": {},
   "source": [
    "To find lower season and to have better picture at all we would find the average price by month and use plot line to visializate it."
   ]
  },
  {
   "cell_type": "code",
   "execution_count": 101,
   "id": "d3704ded",
   "metadata": {},
   "outputs": [
    {
     "data": {
      "image/png": "[encoded data removed]",
      "text/plain": [
       "<Figure size 432x288 with 1 Axes>"
      ]
     },
     "metadata": {
      "needs_background": "light"
     },
     "output_type": "display_data"
    }
   ],
   "source": [
    "#using plot to visualize the mean price per month\n",
    "\n",
    "plt.plot(df_cal.groupby('month').mean('normal_price')[['normal_price']])\n",
    "plt.xlabel('Month')\n",
    "plt.ylabel('Average price')\n",
    "plt.title('Average price by month in Boston')\n",
    "plt.show()"
   ]
  },
  {
   "cell_type": "markdown",
   "id": "bd48d1c0",
   "metadata": {},
   "source": [
    "#### We can clearly see that starting from the August prices are starting to go up and in December they are going down.The lowest prices are in February.This means that if you whant to avoid crowds of people and high prices, you shouldn't peak this  and you are not afraid of New Englad's winter you need to pick December for your trip.You can save a lot on your trip."
   ]
  },
  {
   "cell_type": "markdown",
   "id": "9dcc16f0",
   "metadata": {},
   "source": [
    "### 2. Is there is a significant price change for accommodation?\n"
   ]
  },
  {
   "cell_type": "markdown",
   "id": "d9b362c5",
   "metadata": {},
   "source": [
    "To understand is it really that much change in price, or it is not significant at all and makes it worthless to worry about? To answer that question we would find the highest price and lowest price for the same property using listing_id. We will plot both lines on the plot to see if they coincide or not. And if they don't coincide, is there a big difference between them? Blue response for the highest prices for property and blue for the lowest.\n",
    " \n",
    "\n"
   ]
  },
  {
   "cell_type": "code",
   "execution_count": 102,
   "id": "8f25d1b4",
   "metadata": {},
   "outputs": [
    {
     "data": {
      "image/png": "[encoded data removed]",
      "text/plain": [
       "<Figure size 432x288 with 1 Axes>"
      ]
     },
     "metadata": {
      "needs_background": "light"
     },
     "output_type": "display_data"
    }
   ],
   "source": [
    "#using plot to visualize maximum prices and minimum prices for the same listing_id\n",
    "\n",
    "plt.plot(df_cal.groupby('listing_id').max('normal_price')['normal_price'])\n",
    "plt.plot(df_cal.groupby('listing_id').min('normal_price')['normal_price'])\n",
    "plt.xlabel('Property')\n",
    "plt.ylabel('Price')\n",
    "plt.title('Min and Max of the Prices')\n",
    "plt.show()"
   ]
  },
  {
   "cell_type": "markdown",
   "id": "8ad33325",
   "metadata": {},
   "source": [
    " We can see that some properties really raised the prices significally."
   ]
  },
  {
   "cell_type": "markdown",
   "id": "87792730",
   "metadata": {},
   "source": [
    "###  3. All the cities raise prices in high season and by what percent?\n"
   ]
  },
  {
   "cell_type": "markdown",
   "id": "f8a9bdde",
   "metadata": {},
   "source": [
    "We want to find out if in all the cities the price varies depending on the season, and by what percent it varies. It helps to understand if you we can still save some money if we want to go in high season. Maybe some cities raise their prices much less than others."
   ]
  },
  {
   "cell_type": "markdown",
   "id": "1eb36058",
   "metadata": {},
   "source": [
    "We are finding the highest and lowest price for the same property in the same city.Using mathematical formula we find by what percent prices have changed."
   ]
  },
  {
   "cell_type": "code",
   "execution_count": 105,
   "id": "52a4c27b",
   "metadata": {},
   "outputs": [
    {
     "data": {
      "text/plain": [
       "city\n",
       "ALLSTON                       0.000000\n",
       "dorchester, boston            0.000000\n",
       "boston                        0.000000\n",
       "Watertown                     0.000000\n",
       "South End, Boston             0.000000\n",
       "South Boston                  0.000000\n",
       "Roslindale, Boston            0.000000\n",
       "Newton                        0.000000\n",
       "Mission Hill, Boston          0.000000\n",
       "Milton                        0.000000\n",
       "Mattapan                      0.000000\n",
       "Jamaica plain                 0.000000\n",
       "Jamaica Plain, MA             0.000000\n",
       "east Boston                   0.000000\n",
       "Jamaica Plain (Boston)        0.000000\n",
       "Jamaica Plain                 0.000000\n",
       "Jamaica Plain, Boston         0.000000\n",
       "Hyde Park                     0.000000\n",
       "Boston                        0.000000\n",
       "Boston (Charlestown)          0.000000\n",
       "Boston (Jamaica Plain)        0.000000\n",
       "Brighton                      0.000000\n",
       "Boston, Massachusetts, US     0.000000\n",
       "Charlestown                   0.000000\n",
       "East Boston                   0.000000\n",
       "波士顿                           0.000000\n",
       "Brookline                     0.261324\n",
       "Cambridge                     0.914634\n",
       "Somerville                    0.914634\n",
       "Roslindale                    2.212389\n",
       "Dorchester                    5.612245\n",
       "Jamaica Plain                 7.115512\n",
       "Brighton                      8.108108\n",
       "West Roxbury                  9.448819\n",
       "Roxbury Crossing             10.526316\n",
       "ROXBURY CROSSING             10.606061\n",
       "Boston                       13.002620\n",
       "Allston                      17.989418\n",
       "Name: percent, dtype: float64"
      ]
     },
     "execution_count": 105,
     "metadata": {},
     "output_type": "execute_result"
    }
   ],
   "source": [
    "#To table that we created before add column from dataframe df\n",
    "temp['city'] = df['city']\n",
    "temp.reset_index(inplace=True)\n",
    "#finding max and min for every listing in every city\n",
    "grouped_prices = temp.groupby(['listing_id','city'])['normal_price'].agg(['max', 'min'])\n",
    "#finding percent changed\n",
    "grouped_prices['percent']=(grouped_prices['max']-grouped_prices['min'])/grouped_prices['min']*100\n",
    "tt=grouped_prices.groupby('city').mean(['percent'])['percent']\n",
    "tt.sort_values()\n"
   ]
  },
  {
   "cell_type": "markdown",
   "id": "2481e5f4",
   "metadata": {},
   "source": [
    "We already see that some cities are not raising their price at all. But for better understanding, we would visualize it on a plot. It's a very detailed plot, so we use %matplotlib qt instruction to make it interactive"
   ]
  },
  {
   "cell_type": "code",
   "execution_count": 106,
   "id": "0af0f751",
   "metadata": {},
   "outputs": [
    {
     "name": "stderr",
     "output_type": "stream",
     "text": [
      "/Users/reznichenkoanastasia/opt/anaconda3/lib/python3.9/site-packages/ipykernel/eventloops.py:105: UserWarning: Glyph 27874 (\\N{CJK UNIFIED IDEOGRAPH-6CE2}) missing from current font.\n",
      "  app.exec_()\n",
      "/Users/reznichenkoanastasia/opt/anaconda3/lib/python3.9/site-packages/ipykernel/eventloops.py:105: UserWarning: Glyph 22763 (\\N{CJK UNIFIED IDEOGRAPH-58EB}) missing from current font.\n",
      "  app.exec_()\n",
      "/Users/reznichenkoanastasia/opt/anaconda3/lib/python3.9/site-packages/ipykernel/eventloops.py:105: UserWarning: Glyph 39039 (\\N{CJK UNIFIED IDEOGRAPH-987F}) missing from current font.\n",
      "  app.exec_()\n"
     ]
    }
   ],
   "source": [
    "# Please note that chart will open in new window\n",
    "%matplotlib qt\n",
    "\n",
    "plt.bar(tt.index,tt)\n",
    "plt.xticks(rotation=45)\n",
    "plt.show()\n"
   ]
  },
  {
   "cell_type": "markdown",
   "id": "781bdac3",
   "metadata": {},
   "source": [
    "#### We can see that some cities don't raise the prices for accommodation at all.We can save money staying there."
   ]
  },
  {
   "cell_type": "markdown",
   "id": "bfb3004e",
   "metadata": {},
   "source": [
    "### 4. Is there any connections between price, distance from the city center and satisfaction with the stay?"
   ]
  },
  {
   "cell_type": "markdown",
   "id": "3d934d29",
   "metadata": {},
   "source": [
    "We can assume that if you pay more you get more or that living closer to city center makes your stay better. But do we really have any connection between satisfaction from the stay and price of the accommodation or distance to city center?"
   ]
  },
  {
   "cell_type": "markdown",
   "id": "a4e397b1",
   "metadata": {},
   "source": [
    "To check that we would find correlation between columns review rating, price and distance (the column we created earlier)."
   ]
  },
  {
   "cell_type": "code",
   "execution_count": 107,
   "id": "70cd8de2",
   "metadata": {},
   "outputs": [
    {
     "data": {
      "text/html": [
       "<div>\n",
       "<style scoped>\n",
       "    .dataframe tbody tr th:only-of-type {\n",
       "        vertical-align: middle;\n",
       "    }\n",
       "\n",
       "    .dataframe tbody tr th {\n",
       "        vertical-align: top;\n",
       "    }\n",
       "\n",
       "    .dataframe thead th {\n",
       "        text-align: right;\n",
       "    }\n",
       "</style>\n",
       "<table border=\"1\" class=\"dataframe\">\n",
       "  <thead>\n",
       "    <tr style=\"text-align: right;\">\n",
       "      <th></th>\n",
       "      <th>review_scores_rating</th>\n",
       "      <th>distance_to_cent</th>\n",
       "      <th>normal_price</th>\n",
       "    </tr>\n",
       "  </thead>\n",
       "  <tbody>\n",
       "    <tr>\n",
       "      <th>review_scores_rating</th>\n",
       "      <td>1.000000</td>\n",
       "      <td>-0.022225</td>\n",
       "      <td>0.105651</td>\n",
       "    </tr>\n",
       "    <tr>\n",
       "      <th>distance_to_cent</th>\n",
       "      <td>-0.022225</td>\n",
       "      <td>1.000000</td>\n",
       "      <td>-0.295621</td>\n",
       "    </tr>\n",
       "    <tr>\n",
       "      <th>normal_price</th>\n",
       "      <td>0.105651</td>\n",
       "      <td>-0.295621</td>\n",
       "      <td>1.000000</td>\n",
       "    </tr>\n",
       "  </tbody>\n",
       "</table>\n",
       "</div>"
      ],
      "text/plain": [
       "                      review_scores_rating  distance_to_cent  normal_price\n",
       "review_scores_rating              1.000000         -0.022225      0.105651\n",
       "distance_to_cent                 -0.022225          1.000000     -0.295621\n",
       "normal_price                      0.105651         -0.295621      1.000000"
      ]
     },
     "execution_count": 107,
     "metadata": {},
     "output_type": "execute_result"
    }
   ],
   "source": [
    "#finding correlation between values\n",
    "df[['review_scores_rating','distance_to_cent', 'normal_price']].corr()\n",
    "    "
   ]
  },
  {
   "cell_type": "markdown",
   "id": "64d59591",
   "metadata": {},
   "source": [
    "Based on numbers we there is no strong correlation between this columns."
   ]
  },
  {
   "cell_type": "code",
   "execution_count": 108,
   "id": "7f8e7a94",
   "metadata": {},
   "outputs": [
    {
     "data": {
      "text/plain": [
       "<AxesSubplot:>"
      ]
     },
     "execution_count": 108,
     "metadata": {},
     "output_type": "execute_result"
    },
    {
     "data": {
      "image/png": "[encoded data removed]",
      "text/plain": [
       "<Figure size 432x288 with 2 Axes>"
      ]
     },
     "metadata": {
      "needs_background": "light"
     },
     "output_type": "display_data"
    }
   ],
   "source": [
    "# And heatmap to vizualizate correlation\n",
    "%matplotlib inline\n",
    "\n",
    "sns.heatmap(df[['review_scores_rating','distance_to_cent', 'normal_price']].corr())"
   ]
  },
  {
   "cell_type": "markdown",
   "id": "2f053f86",
   "metadata": {},
   "source": [
    "#### We can see that the price of the place you stay or how close it is to the city center doesn't make a real impact on the satisfaction of your stay."
   ]
  },
  {
   "cell_type": "code",
   "execution_count": null,
   "id": "1343897f",
   "metadata": {},
   "outputs": [],
   "source": []
  }
 ],
 "metadata": {
  "kernelspec": {
   "display_name": "Python 3 (ipykernel)",
   "language": "python",
   "name": "python3"
  },
  "language_info": {
   "codemirror_mode": {
    "name": "ipython",
    "version": 3
   },
   "file_extension": ".py",
   "mimetype": "text/x-python",
   "name": "python",
   "nbconvert_exporter": "python",
   "pygments_lexer": "ipython3",
   "version": "3.9.12"
  }
 },
 "nbformat": 4,
 "nbformat_minor": 5
}
